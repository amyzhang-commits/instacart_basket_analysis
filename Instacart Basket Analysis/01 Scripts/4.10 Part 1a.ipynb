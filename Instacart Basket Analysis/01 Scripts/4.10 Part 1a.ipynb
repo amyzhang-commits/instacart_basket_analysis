{
 "cells": [
  {
   "cell_type": "code",
   "execution_count": 1,
   "id": "349b47da-7bb5-4cc4-ab8b-4fdb88c5b6bc",
   "metadata": {},
   "outputs": [],
   "source": [
    "# Import libraries. \n",
    "import pandas as pd\n",
    "import numpy as np\n",
    "import os\n",
    "import matplotlib.pyplot as plt\n",
    "import seaborn as sns\n",
    "import scipy"
   ]
  },
  {
   "cell_type": "markdown",
   "id": "6312c37c-935d-4b2f-a740-1576c8a15f4c",
   "metadata": {},
   "source": [
    "# 1) Import Dataset"
   ]
  },
  {
   "cell_type": "code",
   "execution_count": 2,
   "id": "193e0db7-1681-4bee-8695-2d4f804cd5fd",
   "metadata": {},
   "outputs": [],
   "source": [
    "path = r'/Users/amyzhang/Desktop/Instacart Basket Analysis/'"
   ]
  },
  {
   "cell_type": "code",
   "execution_count": 5,
   "id": "94503d12-1a78-4409-bcf0-70136a1dd059",
   "metadata": {},
   "outputs": [],
   "source": [
    "opc = pd.read_pickle(os.path.join(path, '02 Data', 'Prepared Data 2', 'ords_prods_custom_merge.pkl'))"
   ]
  },
  {
   "cell_type": "markdown",
   "id": "325f2935-5c4d-431e-9132-5838abfc51f0",
   "metadata": {},
   "source": [
    "# 2) Address PII data"
   ]
  },
  {
   "cell_type": "code",
   "execution_count": 6,
   "id": "2337eb7d-3017-4a48-9e95-c6859dddaa35",
   "metadata": {},
   "outputs": [],
   "source": [
    "# Identify PII data\n",
    "columns_to_drop = ['first name', 'last name']\n",
    "\n",
    "# Drop the columns\n",
    "opc.drop(columns=columns_to_drop, axis=1, inplace=True, errors='ignore')"
   ]
  },
  {
   "cell_type": "code",
   "execution_count": 7,
   "id": "25a26b09-6a72-451e-a48e-fef61c605950",
   "metadata": {},
   "outputs": [
    {
     "data": {
      "text/plain": [
       "Index(['order_id', 'user_id', 'order_number', 'order_day_of_week',\n",
       "       'order_time', 'days_since_prior_order', 'product_id', 'cart_position',\n",
       "       'reorder_status', 'product_name', 'aisle_id', 'department_id', 'prices',\n",
       "       'delinquent_status', '_merge', 'price_range_loc', 'day_label',\n",
       "       'busiest_period_of_day', 'max_order', 'loyalty_flag', 'avg_order_price',\n",
       "       'spending_flag', 'median_days_since_prior_order', 'frequency_flag',\n",
       "       'gender', 'state', 'age', 'date_joined', 'n_dependants', 'fam_status',\n",
       "       'income', 'merge_2'],\n",
       "      dtype='object')"
      ]
     },
     "execution_count": 7,
     "metadata": {},
     "output_type": "execute_result"
    }
   ],
   "source": [
    "# Verify columns have been dropped. \n",
    "opc.columns"
   ]
  },
  {
   "cell_type": "code",
   "execution_count": 21,
   "id": "fe38213a-d854-4fd0-b66e-20b4f3ddea55",
   "metadata": {},
   "outputs": [
    {
     "data": {
      "text/plain": [
       "(32433030, 32)"
      ]
     },
     "execution_count": 21,
     "metadata": {},
     "output_type": "execute_result"
    }
   ],
   "source": [
    "# Originally 34 columns; there should now be 2 less. \n",
    "opc.shape"
   ]
  },
  {
   "cell_type": "markdown",
   "id": "24a7f55b-7957-4f95-a645-a4daabda444f",
   "metadata": {},
   "source": [
    "# 3) Regional segementation"
   ]
  },
  {
   "cell_type": "code",
   "execution_count": 30,
   "id": "c2fc215c-953d-47ce-95b0-2009e3311953",
   "metadata": {},
   "outputs": [],
   "source": [
    "# Quick glance (check how state names are entered)"
   ]
  },
  {
   "cell_type": "code",
   "execution_count": 26,
   "id": "6902a769-7665-442f-8f82-5208d2320044",
   "metadata": {},
   "outputs": [
    {
     "data": {
      "text/plain": [
       "count         32433030\n",
       "unique              51\n",
       "top       Pennsylvania\n",
       "freq            667698\n",
       "Name: state, dtype: object"
      ]
     },
     "execution_count": 26,
     "metadata": {},
     "output_type": "execute_result"
    }
   ],
   "source": [
    "opc['state'].describe()"
   ]
  },
  {
   "cell_type": "code",
   "execution_count": 13,
   "id": "4f86d8ac-9f95-48d4-a9b1-26d6407e1370",
   "metadata": {},
   "outputs": [],
   "source": [
    "# Create region column based on state. \n",
    "\n",
    "# Northeast (Region 1)\n",
    "opc.loc[opc['state'].isin(['Maine', 'New Hampshire', 'Vermont', 'Massachusetts', 'Rhode Island', \n",
    "                           'Connecticut', 'New York', 'Pennsylvania']), 'region'] = 'Northeast'\n",
    "\n",
    "# Midwest (Region 2)\n",
    "opc.loc[opc['state'].isin(['Wisconsin', 'Michigan', 'Illinois', 'Indiana', 'Ohio', \n",
    "                           'North Dakota', 'South Dakota', 'Nebraska', 'Kansas', \n",
    "                           'Minnesota', 'Iowa', 'Missouri']), 'region'] = 'Midwest'\n",
    "\n",
    "# South (Region 3)\n",
    "opc.loc[opc['state'].isin(['Delaware', 'Maryland', 'District of Columbia', 'Virginia', 'West Virginia', \n",
    "                           'North Carolina', 'South Carolina', 'Georgia', 'Florida', \n",
    "                           'Kentucky', 'Tennessee', 'Mississippi', 'Alabama', \n",
    "                           'Oklahoma', 'Texas', 'Arkansas', 'Louisiana']), 'region'] = 'South'\n",
    "\n",
    "# West (Region 4)\n",
    "opc.loc[opc['state'].isin(['Idaho', 'Montana', 'Wyoming', 'Nevada', 'Utah', 'Colorado', \n",
    "                           'Arizona', 'New Mexico', 'Alaska', 'Washington', \n",
    "                           'Oregon', 'California', 'Hawaii', 'New Jersey']), 'region'] = 'West'\n",
    "\n",
    "# Assign 'Unknown' for any states not listed\n",
    "opc['region'] = opc['region'].fillna('Unknown')\n"
   ]
  },
  {
   "cell_type": "code",
   "execution_count": 36,
   "id": "aa38f359-a9ad-45cc-87a6-dd6293db8f22",
   "metadata": {},
   "outputs": [
    {
     "data": {
      "text/plain": [
       "region\n",
       "South        10801195\n",
       "West          8928418\n",
       "Midwest       7603550\n",
       "Northeast     5099867\n",
       "Name: count, dtype: int64"
      ]
     },
     "execution_count": 36,
     "metadata": {},
     "output_type": "execute_result"
    }
   ],
   "source": [
    "opc['region'].value_counts(dropna=False)"
   ]
  },
  {
   "cell_type": "markdown",
   "id": "426340b2-c07b-4787-8320-222aac95988e",
   "metadata": {},
   "source": [
    "## Spending habits across U.S. regions"
   ]
  },
  {
   "cell_type": "markdown",
   "id": "71519120-2076-43b2-9350-49c5be9a63d9",
   "metadata": {},
   "source": [
    "### Regional Distribution of 'spending_flag' "
   ]
  },
  {
   "cell_type": "code",
   "execution_count": 59,
   "id": "955a2d37-f80e-418d-b8ff-3e967e9656cd",
   "metadata": {},
   "outputs": [
    {
     "name": "stdout",
     "output_type": "stream",
     "text": [
      "spending_flag\n",
      "Low spender     202803\n",
      "High spender      3406\n",
      "Name: count, dtype: int64\n"
     ]
    }
   ],
   "source": [
    "# Group by 'user_id' and get the first value of 'spending_flag' for each user\n",
    "grouped_spending = opc.groupby('user_id')['spending_flag'].first().reset_index()\n",
    "\n",
    "# Count the number of occurrences of each 'spending_flag' value\n",
    "spending_flag_counts = grouped_spending['spending_flag'].value_counts(dropna=False)\n",
    "\n",
    "# Display the counts\n",
    "print(spending_flag_counts)\n"
   ]
  },
  {
   "cell_type": "code",
   "execution_count": 61,
   "id": "81d5fef2-bc51-456c-a7ab-5c1c8280c27c",
   "metadata": {},
   "outputs": [
    {
     "name": "stdout",
     "output_type": "stream",
     "text": [
      "spending_flag  High spender  Low spender\n",
      "region                                  \n",
      "Midwest                 803        47716\n",
      "Northeast               490        31855\n",
      "South                  1149        67588\n",
      "West                    964        55644\n"
     ]
    }
   ],
   "source": [
    "# Group by both 'region' and 'user_id', and get the first value of 'spending_flag' for each unique user\n",
    "grouped_spending_region = opc.groupby(['region', 'user_id'])['spending_flag'].first().reset_index()\n",
    "\n",
    "# Count the number of high and low spenders in each region\n",
    "spending_counts_by_region = grouped_spending_region.groupby(['region', 'spending_flag'])['user_id'].count().reset_index()\n",
    "\n",
    "# Rename the columns for clarity\n",
    "spending_counts_by_region.rename(columns={'user_id': 'count'}, inplace=True)\n",
    "\n",
    "# Pivot the data to have 'spending_flag' as columns, and 'region' as index\n",
    "pivot_spending_region = spending_counts_by_region.pivot(index='region', columns='spending_flag', values='count')\n",
    "\n",
    "# Fill NaN values with 0 for regions without certain flags\n",
    "pivot_spending_region.fillna(0, inplace=True)\n",
    "\n",
    "# Display the pivot table (distribution of spenders across regions)\n",
    "print(pivot_spending_region)\n"
   ]
  },
  {
   "cell_type": "code",
   "execution_count": 63,
   "id": "dc70be98-a763-4945-a911-5f0f1bba943e",
   "metadata": {},
   "outputs": [],
   "source": [
    "# Data is consistent: \n",
    "# 48,519 (Midwest) + 32,345 (Northeast) + 68,737 (South) + 56,608 (West) = 206,209 customers"
   ]
  },
  {
   "cell_type": "code",
   "execution_count": 88,
   "id": "14479be4-ca6f-45e7-963a-481a53e4f22d",
   "metadata": {},
   "outputs": [
    {
     "data": {
      "image/png": "[encoded data removed]",
      "text/plain": [
       "<Figure size 1000x600 with 1 Axes>"
      ]
     },
     "metadata": {},
     "output_type": "display_data"
    }
   ],
   "source": [
    "# Calculate the total counts for sorting\n",
    "pivot_spending_region['Total'] = pivot_spending_region.sum(axis=1)\n",
    "\n",
    "# Sort the DataFrame by the 'Total' column in descending order\n",
    "pivot_spending_region = pivot_spending_region.sort_values(by='Total', ascending=False)\n",
    "\n",
    "# Drop the 'Total' column (if not needed for plotting)\n",
    "pivot_spending_region = pivot_spending_region.drop(columns='Total')\n",
    "\n",
    "# Create a figure and axes for plotting\n",
    "fig, ax = plt.subplots(figsize=(10, 6))\n",
    "\n",
    "# Plot the sorted stacked bar chart\n",
    "pivot_spending_region.plot(\n",
    "    kind='bar',\n",
    "    stacked=True,\n",
    "    ax=ax,  # Use the axes object\n",
    "    color=['orange', 'skyblue'],  # Correct color assignment\n",
    ")\n",
    "\n",
    "# Customize the chart\n",
    "ax.set_title('Distribution of High-Spenders vs. Low-Spenders by Region')\n",
    "ax.set_ylabel('Count')\n",
    "ax.set_xlabel('Region')\n",
    "ax.legend(title='Spending Flag', labels=['High Spender', 'Low Spender'])  # Ensure legend labels match the colors\n",
    "plt.xticks(rotation=45)\n",
    "\n",
    "# Show the plot\n",
    "plt.tight_layout()\n",
    "plt.show()\n"
   ]
  },
  {
   "cell_type": "code",
   "execution_count": 90,
   "id": "b37c1f92-2cdd-41b4-a663-5f100748489e",
   "metadata": {},
   "outputs": [
    {
     "name": "stdout",
     "output_type": "stream",
     "text": [
      "Plot saved to /Users/amyzhang/Desktop/Instacart Basket Analysis/04 Analysis/Visualizations/Region_Spending_barchart.png\n"
     ]
    }
   ],
   "source": [
    "# Define the directory and file name\n",
    "output_dir = '/Users/amyzhang/Desktop/Instacart Basket Analysis/04 Analysis/Visualizations'\n",
    "file_name = 'Region_Spending_barchart.png'\n",
    "\n",
    "# Construct the full file path\n",
    "output_path = os.path.join(output_dir, file_name)\n",
    "\n",
    "# Save the plot\n",
    "fig.savefig(output_path, format='png')\n",
    "\n",
    "# Print a message confirming the save\n",
    "print(f\"Plot saved to {output_path}\")"
   ]
  },
  {
   "cell_type": "markdown",
   "id": "0df47671-ed45-454e-a20f-c21a9f900e90",
   "metadata": {},
   "source": [
    "### Regional Distribution of 'loyalty_flag' (based on a user's max number of orders) "
   ]
  },
  {
   "cell_type": "code",
   "execution_count": 77,
   "id": "ddf9829f-3113-42ec-8143-e42e67169442",
   "metadata": {},
   "outputs": [
    {
     "name": "stdout",
     "output_type": "stream",
     "text": [
      "loyalty_flag  Loyal customer  New customer  Regular customer\n",
      "region                                                      \n",
      "Midwest                 3991         26333             18195\n",
      "Northeast               2702         17623             12020\n",
      "South                   5637         37491             25609\n",
      "West                    4687         30881             21040\n"
     ]
    }
   ],
   "source": [
    "# Group by both 'region' and 'user_id', and get the first value of 'loyalty_flag' for each unique user\n",
    "grouped_loyalty_region = opc.groupby(['region', 'user_id'])['loyalty_flag'].first().reset_index()\n",
    "\n",
    "# Count the number of loyal, new, and regular customers in each region\n",
    "loyalty_counts_by_region = grouped_loyalty_region.groupby(['region', 'loyalty_flag'])['user_id'].count().reset_index()\n",
    "\n",
    "# Rename the columns for clarity\n",
    "loyalty_counts_by_region.rename(columns={'user_id': 'count'}, inplace=True)\n",
    "\n",
    "# Pivot the data to have 'loyalty_flag' as columns, and 'region' as index\n",
    "pivot_loyalty_region = loyalty_counts_by_region.pivot(index='region', columns='loyalty_flag', values='count')\n",
    "\n",
    "# Fill NaN values with 0 for regions without certain flags\n",
    "pivot_loyalty_region.fillna(0, inplace=True)\n",
    "\n",
    "# Display the pivot table (distribution of loyalty_flag across regions)\n",
    "print(pivot_loyalty_region)\n"
   ]
  },
  {
   "cell_type": "code",
   "execution_count": 96,
   "id": "398d3d3f-d489-4142-a28d-6d52930ee687",
   "metadata": {},
   "outputs": [
    {
     "data": {
      "text/plain": [
       "(array([0, 1, 2, 3]),\n",
       " [Text(0, 0, 'South'),\n",
       "  Text(1, 0, 'West'),\n",
       "  Text(2, 0, 'Midwest'),\n",
       "  Text(3, 0, 'Northeast')])"
      ]
     },
     "execution_count": 96,
     "metadata": {},
     "output_type": "execute_result"
    },
    {
     "data": {
      "image/png": "[encoded data removed]",
      "text/plain": [
       "<Figure size 1000x600 with 1 Axes>"
      ]
     },
     "metadata": {},
     "output_type": "display_data"
    }
   ],
   "source": [
    "# Calculate the total counts for sorting\n",
    "pivot_loyalty_region['Total'] = pivot_loyalty_region.sum(axis=1)\n",
    "\n",
    "# Sort the DataFrame by the 'Total' column (descending)\n",
    "pivot_loyalty_region = pivot_loyalty_region.sort_values(by='Total', ascending=False)\n",
    "\n",
    "# Drop the 'Total' column (not needed for plotting)\n",
    "pivot_loyalty_region = pivot_loyalty_region.drop(columns='Total')\n",
    "\n",
    "# Create a separate figure and axes for the Loyalty chart\n",
    "fig_loyalty, ax_loyalty = plt.subplots(figsize=(10, 6))\n",
    "\n",
    "# Plot the sorted stacked bar chart for Loyalty\n",
    "pivot_loyalty_region.plot(\n",
    "    kind='bar',\n",
    "    stacked=True,\n",
    "    ax=ax_loyalty,  # Use the axes object\n",
    "    color=['orange', 'skyblue', 'green'],\n",
    ")\n",
    "\n",
    "# Customize the chart\n",
    "ax_loyalty.set_title('Distribution of Customer Loyalty by Region')\n",
    "ax_loyalty.set_ylabel('Count')\n",
    "ax_loyalty.set_xlabel('Region')\n",
    "ax_loyalty.legend(title='Loyalty Flag', labels=['Loyal customer', 'New customer', 'Regular customer'])  # Ensure legend labels match the colors\n",
    "plt.xticks(rotation=45)"
   ]
  },
  {
   "cell_type": "code",
   "execution_count": 98,
   "id": "4b6b685c-4280-4e24-8bcc-bbd4ae3e67db",
   "metadata": {},
   "outputs": [
    {
     "name": "stdout",
     "output_type": "stream",
     "text": [
      "Loyalty plot saved to /Users/amyzhang/Desktop/Instacart Basket Analysis/04 Analysis/Visualizations/Region_Loyalty_barchart.png\n"
     ]
    },
    {
     "data": {
      "text/plain": [
       "<Figure size 640x480 with 0 Axes>"
      ]
     },
     "metadata": {},
     "output_type": "display_data"
    }
   ],
   "source": [
    "# Save the Loyalty chart to a unique file name\n",
    "output_dir = '/Users/amyzhang/Desktop/Instacart Basket Analysis/04 Analysis/Visualizations'\n",
    "file_name_loyalty = 'Region_Loyalty_barchart.png'  # Unique file name for Loyalty chart\n",
    "output_path_loyalty = os.path.join(output_dir, file_name_loyalty)\n",
    "fig_loyalty.savefig(output_path_loyalty, format='png')\n",
    "\n",
    "# Print a message confirming the save\n",
    "print(f\"Loyalty plot saved to {output_path_loyalty}\")\n",
    "\n",
    "# Show the plot\n",
    "plt.tight_layout()\n",
    "plt.show()"
   ]
  },
  {
   "cell_type": "markdown",
   "id": "0643c5b6-0c88-4c62-875b-0d2c78096d04",
   "metadata": {},
   "source": [
    "### Regional Distribution of 'frequency flag' (based on median days_since_prior_order)"
   ]
  },
  {
   "cell_type": "code",
   "execution_count": 15,
   "id": "467b05c6-9715-4b7d-8ce5-249ef8a747af",
   "metadata": {},
   "outputs": [
    {
     "name": "stdout",
     "output_type": "stream",
     "text": [
      "frequency_flag  Frequent customer  Not frequent customer  Regular customer\n",
      "region                                                                    \n",
      "Midwest                     20280                  14061             14178\n",
      "Northeast                   13576                   9211              9558\n",
      "South                       28866                  19933             19938\n",
      "West                        23869                  16411             16328\n"
     ]
    }
   ],
   "source": [
    "# Group by both 'region' and 'user_id', and get the first value of 'frequency_flag' for each unique user\n",
    "grouped_frequency_region = opc.groupby(['region', 'user_id'])['frequency_flag'].first().reset_index()\n",
    "\n",
    "# Count the number of customer types in each region\n",
    "frequency_counts_by_region = grouped_frequency_region.groupby(['region', 'frequency_flag'])['user_id'].count().reset_index()\n",
    "\n",
    "# Rename the columns for clarity\n",
    "frequency_counts_by_region.rename(columns={'user_id': 'count'}, inplace=True)\n",
    "\n",
    "# Pivot the data to have 'loyalty_flag' as columns, and 'region' as index\n",
    "pivot_frequency_region = frequency_counts_by_region.pivot(index='region', columns='frequency_flag', values='count')\n",
    "\n",
    "# Fill NaN values with 0 for regions without certain flags\n",
    "pivot_frequency_region.fillna(0, inplace=True)\n",
    "\n",
    "# Display the pivot table (distribution of loyalty_flag across regions)\n",
    "print(pivot_frequency_region)"
   ]
  },
  {
   "cell_type": "code",
   "execution_count": 26,
   "id": "ef57ef25-47c9-45ec-984c-8bb1b98761b5",
   "metadata": {},
   "outputs": [
    {
     "data": {
      "text/plain": [
       "(array([0, 1, 2, 3]),\n",
       " [Text(0, 0, 'South'),\n",
       "  Text(1, 0, 'West'),\n",
       "  Text(2, 0, 'Midwest'),\n",
       "  Text(3, 0, 'Northeast')])"
      ]
     },
     "execution_count": 26,
     "metadata": {},
     "output_type": "execute_result"
    },
    {
     "data": {
      "image/png": "[encoded data removed]",
      "text/plain": [
       "<Figure size 1000x600 with 1 Axes>"
      ]
     },
     "metadata": {},
     "output_type": "display_data"
    }
   ],
   "source": [
    "# Create a separate figure and axes for the Frequency chart\n",
    "fig_frequency, ax_frequency = plt.subplots(figsize=(10, 6))\n",
    "\n",
    "# Plot the sorted stacked bar chart for Frequency\n",
    "pivot_frequency_region.plot(\n",
    "    kind='bar',\n",
    "    stacked=True,\n",
    "    ax=ax_frequency,  # Use the axes object\n",
    "    color=['#4682B4', '#FF6347', '#B0C4DE'],  # Steel Blue, Tomato, Light Steel Blue\n",
    ")\n",
    "\n",
    "# Customize the chart\n",
    "ax_frequency.set_title('Distribution of Customer Frequency Status by Region')\n",
    "ax_frequency.set_ylabel('Count')\n",
    "ax_frequency.set_xlabel('Region')\n",
    "ax_frequency.legend(title='Frequency Flag', labels=['Frequent customer', 'Not frequent customer', 'Regular customer'])  # Ensure legend labels match the colors\n",
    "plt.xticks(rotation=45)\n"
   ]
  },
  {
   "cell_type": "code",
   "execution_count": 28,
   "id": "dabb093b-ac2d-4d71-86fd-7c661526a66f",
   "metadata": {},
   "outputs": [
    {
     "name": "stdout",
     "output_type": "stream",
     "text": [
      "Frequency plot saved to /Users/amyzhang/Desktop/Instacart Basket Analysis/04 Analysis/Visualizations/Region_Frequency_barchart.png\n"
     ]
    },
    {
     "data": {
      "text/plain": [
       "<Figure size 640x480 with 0 Axes>"
      ]
     },
     "metadata": {},
     "output_type": "display_data"
    }
   ],
   "source": [
    "# Save the Frequency chart to a unique file name\n",
    "output_dir = '/Users/amyzhang/Desktop/Instacart Basket Analysis/04 Analysis/Visualizations'\n",
    "file_name_frequency = 'Region_Frequency_barchart.png'  # Unique file name for Loyalty chart\n",
    "output_path_frequency = os.path.join(output_dir, file_name_frequency)\n",
    "fig_frequency.savefig(output_path_frequency, format='png')\n",
    "\n",
    "# Print a message confirming the save\n",
    "print(f\"Frequency plot saved to {output_path_frequency}\")\n",
    "\n",
    "# Show the plot\n",
    "plt.tight_layout()\n",
    "plt.show()"
   ]
  },
  {
   "cell_type": "markdown",
   "id": "a967e578-eb88-4cb8-8499-c622d1fc9c2a",
   "metadata": {},
   "source": [
    "# 4) Exclusion of Low-Activity Customers (max_order < 5) "
   ]
  },
  {
   "cell_type": "code",
   "execution_count": 33,
   "id": "a898376b-873e-454b-94ac-2c09d489120c",
   "metadata": {},
   "outputs": [],
   "source": [
    "# 1. Create the exclusion flag for low-activity customers (less than 5 orders)\n",
    "opc.loc[opc['max_order'] < 5, 'low_act_flag'] = 'low_activity_customer'\n",
    "\n",
    "# 2. Filter out low-activity customers by user_id\n",
    "low_activity_customers = opc[opc['low_act_flag'] == 'low_activity_customer']\n",
    "opc_filtered = opc[~opc['user_id'].isin(low_activity_customers['user_id'])]"
   ]
  },
  {
   "cell_type": "code",
   "execution_count": 37,
   "id": "17aba2e4-c9bd-45c5-bc5b-5d1da22a5366",
   "metadata": {},
   "outputs": [
    {
     "data": {
      "text/plain": [
       "Series([], Name: count, dtype: int64)"
      ]
     },
     "execution_count": 37,
     "metadata": {},
     "output_type": "execute_result"
    }
   ],
   "source": [
    "opc_filtered['low_act_flag'].value_counts()"
   ]
  },
  {
   "cell_type": "code",
   "execution_count": 39,
   "id": "43c51a3b-d6ea-44c6-8255-c251b19a06df",
   "metadata": {},
   "outputs": [
    {
     "data": {
      "text/plain": [
       "low_act_flag\n",
       "NaN    30991542\n",
       "Name: count, dtype: int64"
      ]
     },
     "execution_count": 39,
     "metadata": {},
     "output_type": "execute_result"
    }
   ],
   "source": [
    "opc_filtered['low_act_flag'].value_counts(dropna=False)"
   ]
  },
  {
   "cell_type": "code",
   "execution_count": 45,
   "id": "4a5e6b55-e022-4b50-911a-bc5b1deb64e8",
   "metadata": {},
   "outputs": [
    {
     "data": {
      "text/plain": [
       "(1441488, 34)"
      ]
     },
     "execution_count": 45,
     "metadata": {},
     "output_type": "execute_result"
    }
   ],
   "source": [
    "low_activity_customers.shape"
   ]
  },
  {
   "cell_type": "code",
   "execution_count": 57,
   "id": "d247c22a-5bc4-4f77-b6a6-47c46bcfba06",
   "metadata": {},
   "outputs": [
    {
     "data": {
      "text/html": [
       "<div>\n",
       "<style scoped>\n",
       "    .dataframe tbody tr th:only-of-type {\n",
       "        vertical-align: middle;\n",
       "    }\n",
       "\n",
       "    .dataframe tbody tr th {\n",
       "        vertical-align: top;\n",
       "    }\n",
       "\n",
       "    .dataframe thead th {\n",
       "        text-align: right;\n",
       "    }\n",
       "</style>\n",
       "<table border=\"1\" class=\"dataframe\">\n",
       "  <thead>\n",
       "    <tr style=\"text-align: right;\">\n",
       "      <th></th>\n",
       "      <th>order_id</th>\n",
       "      <th>user_id</th>\n",
       "      <th>order_number</th>\n",
       "      <th>order_day_of_week</th>\n",
       "      <th>order_time</th>\n",
       "      <th>days_since_prior_order</th>\n",
       "      <th>product_id</th>\n",
       "      <th>cart_position</th>\n",
       "      <th>reorder_status</th>\n",
       "      <th>product_name</th>\n",
       "      <th>...</th>\n",
       "      <th>gender</th>\n",
       "      <th>state</th>\n",
       "      <th>age</th>\n",
       "      <th>date_joined</th>\n",
       "      <th>n_dependants</th>\n",
       "      <th>fam_status</th>\n",
       "      <th>income</th>\n",
       "      <th>merge_2</th>\n",
       "      <th>region</th>\n",
       "      <th>low_act_flag</th>\n",
       "    </tr>\n",
       "  </thead>\n",
       "  <tbody>\n",
       "    <tr>\n",
       "      <th>0</th>\n",
       "      <td>2539329</td>\n",
       "      <td>1</td>\n",
       "      <td>1</td>\n",
       "      <td>2</td>\n",
       "      <td>8</td>\n",
       "      <td>NaN</td>\n",
       "      <td>196</td>\n",
       "      <td>1</td>\n",
       "      <td>0</td>\n",
       "      <td>Soda</td>\n",
       "      <td>...</td>\n",
       "      <td>Female</td>\n",
       "      <td>Alabama</td>\n",
       "      <td>31</td>\n",
       "      <td>2/17/2019</td>\n",
       "      <td>3</td>\n",
       "      <td>married</td>\n",
       "      <td>40423</td>\n",
       "      <td>both</td>\n",
       "      <td>South</td>\n",
       "      <td>NaN</td>\n",
       "    </tr>\n",
       "    <tr>\n",
       "      <th>1</th>\n",
       "      <td>2539329</td>\n",
       "      <td>1</td>\n",
       "      <td>1</td>\n",
       "      <td>2</td>\n",
       "      <td>8</td>\n",
       "      <td>NaN</td>\n",
       "      <td>14084</td>\n",
       "      <td>2</td>\n",
       "      <td>0</td>\n",
       "      <td>Organic Unsweetened Vanilla Almond Milk</td>\n",
       "      <td>...</td>\n",
       "      <td>Female</td>\n",
       "      <td>Alabama</td>\n",
       "      <td>31</td>\n",
       "      <td>2/17/2019</td>\n",
       "      <td>3</td>\n",
       "      <td>married</td>\n",
       "      <td>40423</td>\n",
       "      <td>both</td>\n",
       "      <td>South</td>\n",
       "      <td>NaN</td>\n",
       "    </tr>\n",
       "    <tr>\n",
       "      <th>2</th>\n",
       "      <td>2539329</td>\n",
       "      <td>1</td>\n",
       "      <td>1</td>\n",
       "      <td>2</td>\n",
       "      <td>8</td>\n",
       "      <td>NaN</td>\n",
       "      <td>12427</td>\n",
       "      <td>3</td>\n",
       "      <td>0</td>\n",
       "      <td>Original Beef Jerky</td>\n",
       "      <td>...</td>\n",
       "      <td>Female</td>\n",
       "      <td>Alabama</td>\n",
       "      <td>31</td>\n",
       "      <td>2/17/2019</td>\n",
       "      <td>3</td>\n",
       "      <td>married</td>\n",
       "      <td>40423</td>\n",
       "      <td>both</td>\n",
       "      <td>South</td>\n",
       "      <td>NaN</td>\n",
       "    </tr>\n",
       "    <tr>\n",
       "      <th>3</th>\n",
       "      <td>2539329</td>\n",
       "      <td>1</td>\n",
       "      <td>1</td>\n",
       "      <td>2</td>\n",
       "      <td>8</td>\n",
       "      <td>NaN</td>\n",
       "      <td>26088</td>\n",
       "      <td>4</td>\n",
       "      <td>0</td>\n",
       "      <td>Aged White Cheddar Popcorn</td>\n",
       "      <td>...</td>\n",
       "      <td>Female</td>\n",
       "      <td>Alabama</td>\n",
       "      <td>31</td>\n",
       "      <td>2/17/2019</td>\n",
       "      <td>3</td>\n",
       "      <td>married</td>\n",
       "      <td>40423</td>\n",
       "      <td>both</td>\n",
       "      <td>South</td>\n",
       "      <td>NaN</td>\n",
       "    </tr>\n",
       "    <tr>\n",
       "      <th>4</th>\n",
       "      <td>2539329</td>\n",
       "      <td>1</td>\n",
       "      <td>1</td>\n",
       "      <td>2</td>\n",
       "      <td>8</td>\n",
       "      <td>NaN</td>\n",
       "      <td>26405</td>\n",
       "      <td>5</td>\n",
       "      <td>0</td>\n",
       "      <td>XL Pick-A-Size Paper Towel Rolls</td>\n",
       "      <td>...</td>\n",
       "      <td>Female</td>\n",
       "      <td>Alabama</td>\n",
       "      <td>31</td>\n",
       "      <td>2/17/2019</td>\n",
       "      <td>3</td>\n",
       "      <td>married</td>\n",
       "      <td>40423</td>\n",
       "      <td>both</td>\n",
       "      <td>South</td>\n",
       "      <td>NaN</td>\n",
       "    </tr>\n",
       "  </tbody>\n",
       "</table>\n",
       "<p>5 rows × 34 columns</p>\n",
       "</div>"
      ],
      "text/plain": [
       "  order_id user_id  order_number  order_day_of_week  order_time  \\\n",
       "0  2539329       1             1                  2           8   \n",
       "1  2539329       1             1                  2           8   \n",
       "2  2539329       1             1                  2           8   \n",
       "3  2539329       1             1                  2           8   \n",
       "4  2539329       1             1                  2           8   \n",
       "\n",
       "   days_since_prior_order product_id  cart_position  reorder_status  \\\n",
       "0                     NaN        196              1               0   \n",
       "1                     NaN      14084              2               0   \n",
       "2                     NaN      12427              3               0   \n",
       "3                     NaN      26088              4               0   \n",
       "4                     NaN      26405              5               0   \n",
       "\n",
       "                              product_name  ...  gender    state  age  \\\n",
       "0                                     Soda  ...  Female  Alabama   31   \n",
       "1  Organic Unsweetened Vanilla Almond Milk  ...  Female  Alabama   31   \n",
       "2                      Original Beef Jerky  ...  Female  Alabama   31   \n",
       "3               Aged White Cheddar Popcorn  ...  Female  Alabama   31   \n",
       "4         XL Pick-A-Size Paper Towel Rolls  ...  Female  Alabama   31   \n",
       "\n",
       "  date_joined n_dependants fam_status income merge_2  region low_act_flag  \n",
       "0   2/17/2019            3    married  40423    both   South          NaN  \n",
       "1   2/17/2019            3    married  40423    both   South          NaN  \n",
       "2   2/17/2019            3    married  40423    both   South          NaN  \n",
       "3   2/17/2019            3    married  40423    both   South          NaN  \n",
       "4   2/17/2019            3    married  40423    both   South          NaN  \n",
       "\n",
       "[5 rows x 34 columns]"
      ]
     },
     "execution_count": 57,
     "metadata": {},
     "output_type": "execute_result"
    }
   ],
   "source": [
    "opc_filtered.head()"
   ]
  },
  {
   "cell_type": "code",
   "execution_count": 61,
   "id": "911ca68a-da4a-4520-b218-9a8ab92b5564",
   "metadata": {},
   "outputs": [
    {
     "data": {
      "text/plain": [
       "Index(['order_id', 'user_id', 'order_number', 'order_day_of_week',\n",
       "       'order_time', 'days_since_prior_order', 'product_id', 'cart_position',\n",
       "       'reorder_status', 'product_name', 'aisle_id', 'department_id', 'prices',\n",
       "       'delinquent_status', '_merge', 'price_range_loc', 'day_label',\n",
       "       'busiest_period_of_day', 'max_order', 'loyalty_flag', 'avg_order_price',\n",
       "       'spending_flag', 'median_days_since_prior_order', 'frequency_flag',\n",
       "       'gender', 'state', 'age', 'date_joined', 'n_dependants', 'fam_status',\n",
       "       'income', 'merge_2', 'region', 'low_act_flag'],\n",
       "      dtype='object')"
      ]
     },
     "execution_count": 61,
     "metadata": {},
     "output_type": "execute_result"
    }
   ],
   "source": [
    "opc_filtered.columns"
   ]
  },
  {
   "cell_type": "code",
   "execution_count": 71,
   "id": "983cd838-88c6-4f30-9a2a-3dcd1d9a282c",
   "metadata": {},
   "outputs": [
    {
     "name": "stdout",
     "output_type": "stream",
     "text": [
      "Index(['order_id', 'user_id', 'order_number', 'order_day_of_week',\n",
      "       'order_time', 'days_since_prior_order', 'product_id', 'cart_position',\n",
      "       'reorder_status', 'product_name', 'department_id', 'prices',\n",
      "       'delinquent_status', 'price_range_loc', 'day_label',\n",
      "       'busiest_period_of_day', 'max_order', 'loyalty_flag', 'avg_order_price',\n",
      "       'spending_flag', 'median_days_since_prior_order', 'frequency_flag',\n",
      "       'gender', 'state', 'age', 'date_joined', 'n_dependants', 'fam_status',\n",
      "       'income', 'region'],\n",
      "      dtype='object')\n"
     ]
    },
    {
     "name": "stderr",
     "output_type": "stream",
     "text": [
      "/var/folders/6r/kznwmt6j1rsfwtfplchqpwj00000gn/T/ipykernel_88866/1747802531.py:5: SettingWithCopyWarning: \n",
      "A value is trying to be set on a copy of a slice from a DataFrame\n",
      "\n",
      "See the caveats in the documentation: https://pandas.pydata.org/pandas-docs/stable/user_guide/indexing.html#returning-a-view-versus-a-copy\n",
      "  opc_filtered.drop(columns=columns_to_drop, axis=1, inplace=True, errors='ignore')\n"
     ]
    }
   ],
   "source": [
    "# Take out unnecessary columns before exporting. \n",
    "columns_to_drop = ['_merge', 'aisle_id', 'merge_2', 'low_act_flag']\n",
    "\n",
    "# Drop the columns\n",
    "opc_filtered.drop(columns=columns_to_drop, axis=1, inplace=True, errors='ignore')\n",
    "\n",
    "# Verify the columns have been removed\n",
    "print(opc_filtered.columns)  "
   ]
  },
  {
   "cell_type": "code",
   "execution_count": 73,
   "id": "eb30d215-2e46-407b-bcf3-383b7c4b687f",
   "metadata": {},
   "outputs": [
    {
     "data": {
      "text/plain": [
       "(30991542, 30)"
      ]
     },
     "execution_count": 73,
     "metadata": {},
     "output_type": "execute_result"
    }
   ],
   "source": [
    "opc_filtered.shape"
   ]
  },
  {
   "cell_type": "code",
   "execution_count": 76,
   "id": "66b31ebe-2872-4478-ba79-377902c988ce",
   "metadata": {},
   "outputs": [],
   "source": [
    "# Export dataframe. \n",
    "opc_filtered.to_pickle(os.path.join(path, '02 Data','Prepared Data 2', 'opc_filtered.pkl'))"
   ]
  },
  {
   "cell_type": "code",
   "execution_count": 130,
   "id": "096ad4de-3c3d-4487-a961-298290c322fe",
   "metadata": {},
   "outputs": [
    {
     "name": "stdout",
     "output_type": "stream",
     "text": [
      "Number of unique users: 162633\n"
     ]
    }
   ],
   "source": [
    "unique_users_count = opc_filtered['user_id'].nunique()\n",
    "print(f\"Number of unique users: {unique_users_count}\")"
   ]
  },
  {
   "cell_type": "code",
   "execution_count": 163,
   "id": "0eff9b83-08ed-4e52-ac1a-58917282ba41",
   "metadata": {},
   "outputs": [
    {
     "name": "stdout",
     "output_type": "stream",
     "text": [
      "Number of unique users originally: 206209\n"
     ]
    }
   ],
   "source": [
    "unique_users_count_original = opc['user_id'].nunique()\n",
    "print(f\"Number of unique users originally: {unique_users_count_original}\")"
   ]
  },
  {
   "cell_type": "markdown",
   "id": "985fdc1c-e8d7-4d51-80bb-8578524745f4",
   "metadata": {},
   "source": [
    "#### 37,576 customers were low-activity (fewer than 5 orders). "
   ]
  },
  {
   "cell_type": "markdown",
   "id": "d38877ff-93b2-4b38-84c9-70db3af714e8",
   "metadata": {},
   "source": [
    "# Section below is moot. "
   ]
  },
  {
   "cell_type": "markdown",
   "id": "6980d8f0-bf5c-4b6e-92ab-61ebfbc59262",
   "metadata": {},
   "source": [
    "# -- SEE '4.10 Part 1b' -- "
   ]
  },
  {
   "cell_type": "markdown",
   "id": "e1bb0b77-8f1a-46ed-800a-79770af2c7aa",
   "metadata": {},
   "source": [
    "## 5) Customer Profiles"
   ]
  },
  {
   "cell_type": "markdown",
   "id": "89237a84-0f27-4dbe-9477-e030927d1685",
   "metadata": {},
   "source": [
    "### 1. 'Adventurous Shoppers' vs. 'Creatures of Habit' vs. 'Open to Suggestion'\n",
    "#### (based on the proportion of purchases that are reorders) "
   ]
  },
  {
   "cell_type": "markdown",
   "id": "7c9ce051-3e31-4eb8-80d3-653c07634293",
   "metadata": {},
   "source": [
    "#### Step 1. Group by 'user_id' and count 'reorder_status'"
   ]
  },
  {
   "cell_type": "code",
   "execution_count": 93,
   "id": "fdca491d-9cb5-46c5-b703-e7708bb7d4f2",
   "metadata": {},
   "outputs": [],
   "source": [
    "# Group by user_id and calculate total products and total reorders\n",
    "user_activity = opc_filtered.groupby('user_id').agg(\n",
    "    total_products=('product_id', 'count'),  # Count total number of products ordered by user\n",
    "    total_reorders=('reorder_status', 'sum')  # Sum the reorders (1 indicates reorder)\n",
    ")"
   ]
  },
  {
   "cell_type": "code",
   "execution_count": 95,
   "id": "217e8f00-dbbc-4e5d-a40b-710d06dc7699",
   "metadata": {},
   "outputs": [
    {
     "data": {
      "text/html": [
       "<div>\n",
       "<style scoped>\n",
       "    .dataframe tbody tr th:only-of-type {\n",
       "        vertical-align: middle;\n",
       "    }\n",
       "\n",
       "    .dataframe tbody tr th {\n",
       "        vertical-align: top;\n",
       "    }\n",
       "\n",
       "    .dataframe thead th {\n",
       "        text-align: right;\n",
       "    }\n",
       "</style>\n",
       "<table border=\"1\" class=\"dataframe\">\n",
       "  <thead>\n",
       "    <tr style=\"text-align: right;\">\n",
       "      <th></th>\n",
       "      <th>total_products</th>\n",
       "      <th>total_reorders</th>\n",
       "    </tr>\n",
       "    <tr>\n",
       "      <th>user_id</th>\n",
       "      <th></th>\n",
       "      <th></th>\n",
       "    </tr>\n",
       "  </thead>\n",
       "  <tbody>\n",
       "    <tr>\n",
       "      <th>1</th>\n",
       "      <td>59</td>\n",
       "      <td>41</td>\n",
       "    </tr>\n",
       "    <tr>\n",
       "      <th>10</th>\n",
       "      <td>143</td>\n",
       "      <td>49</td>\n",
       "    </tr>\n",
       "    <tr>\n",
       "      <th>100</th>\n",
       "      <td>27</td>\n",
       "      <td>7</td>\n",
       "    </tr>\n",
       "    <tr>\n",
       "      <th>1000</th>\n",
       "      <td>103</td>\n",
       "      <td>71</td>\n",
       "    </tr>\n",
       "    <tr>\n",
       "      <th>10000</th>\n",
       "      <td>1092</td>\n",
       "      <td>836</td>\n",
       "    </tr>\n",
       "  </tbody>\n",
       "</table>\n",
       "</div>"
      ],
      "text/plain": [
       "         total_products  total_reorders\n",
       "user_id                                \n",
       "1                    59              41\n",
       "10                  143              49\n",
       "100                  27               7\n",
       "1000                103              71\n",
       "10000              1092             836"
      ]
     },
     "execution_count": 95,
     "metadata": {},
     "output_type": "execute_result"
    }
   ],
   "source": [
    "user_activity.head()"
   ]
  },
  {
   "cell_type": "markdown",
   "id": "2b0469b1-226e-4c58-9f9e-66c1ff508664",
   "metadata": {},
   "source": [
    "#### Step 2. Calculate the reorder proportion. "
   ]
  },
  {
   "cell_type": "code",
   "execution_count": 99,
   "id": "304fec3f-78b6-4d70-ad2c-090df8e8c210",
   "metadata": {},
   "outputs": [],
   "source": [
    "# Calculate the reorder proportion for each user\n",
    "user_activity['reorder_proportion'] = user_activity['total_reorders'] / user_activity['total_products']"
   ]
  },
  {
   "cell_type": "code",
   "execution_count": 101,
   "id": "7644cc1c-e5ee-4868-9964-910dd82d8690",
   "metadata": {},
   "outputs": [
    {
     "data": {
      "text/html": [
       "<div>\n",
       "<style scoped>\n",
       "    .dataframe tbody tr th:only-of-type {\n",
       "        vertical-align: middle;\n",
       "    }\n",
       "\n",
       "    .dataframe tbody tr th {\n",
       "        vertical-align: top;\n",
       "    }\n",
       "\n",
       "    .dataframe thead th {\n",
       "        text-align: right;\n",
       "    }\n",
       "</style>\n",
       "<table border=\"1\" class=\"dataframe\">\n",
       "  <thead>\n",
       "    <tr style=\"text-align: right;\">\n",
       "      <th></th>\n",
       "      <th>total_products</th>\n",
       "      <th>total_reorders</th>\n",
       "      <th>reorder_proportion</th>\n",
       "    </tr>\n",
       "    <tr>\n",
       "      <th>user_id</th>\n",
       "      <th></th>\n",
       "      <th></th>\n",
       "      <th></th>\n",
       "    </tr>\n",
       "  </thead>\n",
       "  <tbody>\n",
       "    <tr>\n",
       "      <th>1</th>\n",
       "      <td>59</td>\n",
       "      <td>41</td>\n",
       "      <td>0.694915</td>\n",
       "    </tr>\n",
       "    <tr>\n",
       "      <th>10</th>\n",
       "      <td>143</td>\n",
       "      <td>49</td>\n",
       "      <td>0.342657</td>\n",
       "    </tr>\n",
       "    <tr>\n",
       "      <th>100</th>\n",
       "      <td>27</td>\n",
       "      <td>7</td>\n",
       "      <td>0.259259</td>\n",
       "    </tr>\n",
       "    <tr>\n",
       "      <th>1000</th>\n",
       "      <td>103</td>\n",
       "      <td>71</td>\n",
       "      <td>0.689320</td>\n",
       "    </tr>\n",
       "    <tr>\n",
       "      <th>10000</th>\n",
       "      <td>1092</td>\n",
       "      <td>836</td>\n",
       "      <td>0.765568</td>\n",
       "    </tr>\n",
       "  </tbody>\n",
       "</table>\n",
       "</div>"
      ],
      "text/plain": [
       "         total_products  total_reorders  reorder_proportion\n",
       "user_id                                                    \n",
       "1                    59              41            0.694915\n",
       "10                  143              49            0.342657\n",
       "100                  27               7            0.259259\n",
       "1000                103              71            0.689320\n",
       "10000              1092             836            0.765568"
      ]
     },
     "execution_count": 101,
     "metadata": {},
     "output_type": "execute_result"
    }
   ],
   "source": [
    "user_activity.head()"
   ]
  },
  {
   "cell_type": "code",
   "execution_count": 105,
   "id": "a18a3817-1c43-4d48-833d-aff9ccee0b13",
   "metadata": {},
   "outputs": [
    {
     "data": {
      "text/html": [
       "<div>\n",
       "<style scoped>\n",
       "    .dataframe tbody tr th:only-of-type {\n",
       "        vertical-align: middle;\n",
       "    }\n",
       "\n",
       "    .dataframe tbody tr th {\n",
       "        vertical-align: top;\n",
       "    }\n",
       "\n",
       "    .dataframe thead th {\n",
       "        text-align: right;\n",
       "    }\n",
       "</style>\n",
       "<table border=\"1\" class=\"dataframe\">\n",
       "  <thead>\n",
       "    <tr style=\"text-align: right;\">\n",
       "      <th></th>\n",
       "      <th>total_products</th>\n",
       "      <th>total_reorders</th>\n",
       "      <th>reorder_proportion</th>\n",
       "    </tr>\n",
       "    <tr>\n",
       "      <th>user_id</th>\n",
       "      <th></th>\n",
       "      <th></th>\n",
       "      <th></th>\n",
       "    </tr>\n",
       "  </thead>\n",
       "  <tbody>\n",
       "    <tr>\n",
       "      <th>99753</th>\n",
       "      <td>191</td>\n",
       "      <td>189</td>\n",
       "      <td>0.989529</td>\n",
       "    </tr>\n",
       "    <tr>\n",
       "      <th>82414</th>\n",
       "      <td>428</td>\n",
       "      <td>420</td>\n",
       "      <td>0.981308</td>\n",
       "    </tr>\n",
       "    <tr>\n",
       "      <th>107528</th>\n",
       "      <td>104</td>\n",
       "      <td>102</td>\n",
       "      <td>0.980769</td>\n",
       "    </tr>\n",
       "    <tr>\n",
       "      <th>17997</th>\n",
       "      <td>435</td>\n",
       "      <td>426</td>\n",
       "      <td>0.979310</td>\n",
       "    </tr>\n",
       "    <tr>\n",
       "      <th>5588</th>\n",
       "      <td>2223</td>\n",
       "      <td>2176</td>\n",
       "      <td>0.978857</td>\n",
       "    </tr>\n",
       "    <tr>\n",
       "      <th>170174</th>\n",
       "      <td>47</td>\n",
       "      <td>46</td>\n",
       "      <td>0.978723</td>\n",
       "    </tr>\n",
       "    <tr>\n",
       "      <th>3269</th>\n",
       "      <td>275</td>\n",
       "      <td>269</td>\n",
       "      <td>0.978182</td>\n",
       "    </tr>\n",
       "    <tr>\n",
       "      <th>12025</th>\n",
       "      <td>45</td>\n",
       "      <td>44</td>\n",
       "      <td>0.977778</td>\n",
       "    </tr>\n",
       "    <tr>\n",
       "      <th>91160</th>\n",
       "      <td>212</td>\n",
       "      <td>207</td>\n",
       "      <td>0.976415</td>\n",
       "    </tr>\n",
       "    <tr>\n",
       "      <th>184517</th>\n",
       "      <td>210</td>\n",
       "      <td>205</td>\n",
       "      <td>0.976190</td>\n",
       "    </tr>\n",
       "    <tr>\n",
       "      <th>26489</th>\n",
       "      <td>189</td>\n",
       "      <td>184</td>\n",
       "      <td>0.973545</td>\n",
       "    </tr>\n",
       "    <tr>\n",
       "      <th>37075</th>\n",
       "      <td>36</td>\n",
       "      <td>35</td>\n",
       "      <td>0.972222</td>\n",
       "    </tr>\n",
       "    <tr>\n",
       "      <th>172902</th>\n",
       "      <td>287</td>\n",
       "      <td>279</td>\n",
       "      <td>0.972125</td>\n",
       "    </tr>\n",
       "    <tr>\n",
       "      <th>169980</th>\n",
       "      <td>179</td>\n",
       "      <td>174</td>\n",
       "      <td>0.972067</td>\n",
       "    </tr>\n",
       "    <tr>\n",
       "      <th>198506</th>\n",
       "      <td>94</td>\n",
       "      <td>91</td>\n",
       "      <td>0.968085</td>\n",
       "    </tr>\n",
       "    <tr>\n",
       "      <th>165398</th>\n",
       "      <td>61</td>\n",
       "      <td>59</td>\n",
       "      <td>0.967213</td>\n",
       "    </tr>\n",
       "    <tr>\n",
       "      <th>45671</th>\n",
       "      <td>59</td>\n",
       "      <td>57</td>\n",
       "      <td>0.966102</td>\n",
       "    </tr>\n",
       "    <tr>\n",
       "      <th>100935</th>\n",
       "      <td>175</td>\n",
       "      <td>169</td>\n",
       "      <td>0.965714</td>\n",
       "    </tr>\n",
       "    <tr>\n",
       "      <th>140753</th>\n",
       "      <td>436</td>\n",
       "      <td>421</td>\n",
       "      <td>0.965596</td>\n",
       "    </tr>\n",
       "    <tr>\n",
       "      <th>110225</th>\n",
       "      <td>58</td>\n",
       "      <td>56</td>\n",
       "      <td>0.965517</td>\n",
       "    </tr>\n",
       "  </tbody>\n",
       "</table>\n",
       "</div>"
      ],
      "text/plain": [
       "         total_products  total_reorders  reorder_proportion\n",
       "user_id                                                    \n",
       "99753               191             189            0.989529\n",
       "82414               428             420            0.981308\n",
       "107528              104             102            0.980769\n",
       "17997               435             426            0.979310\n",
       "5588               2223            2176            0.978857\n",
       "170174               47              46            0.978723\n",
       "3269                275             269            0.978182\n",
       "12025                45              44            0.977778\n",
       "91160               212             207            0.976415\n",
       "184517              210             205            0.976190\n",
       "26489               189             184            0.973545\n",
       "37075                36              35            0.972222\n",
       "172902              287             279            0.972125\n",
       "169980              179             174            0.972067\n",
       "198506               94              91            0.968085\n",
       "165398               61              59            0.967213\n",
       "45671                59              57            0.966102\n",
       "100935              175             169            0.965714\n",
       "140753              436             421            0.965596\n",
       "110225               58              56            0.965517"
      ]
     },
     "execution_count": 105,
     "metadata": {},
     "output_type": "execute_result"
    }
   ],
   "source": [
    "# Sort the DataFrame by 'reorder_proportion' in descending order and display the top 20 rows\n",
    "user_activity.sort_values(by='reorder_proportion', ascending=False).head(20)"
   ]
  },
  {
   "cell_type": "code",
   "execution_count": 109,
   "id": "19d04584-2954-4e03-855d-53115da85053",
   "metadata": {},
   "outputs": [
    {
     "data": {
      "text/html": [
       "<div>\n",
       "<style scoped>\n",
       "    .dataframe tbody tr th:only-of-type {\n",
       "        vertical-align: middle;\n",
       "    }\n",
       "\n",
       "    .dataframe tbody tr th {\n",
       "        vertical-align: top;\n",
       "    }\n",
       "\n",
       "    .dataframe thead th {\n",
       "        text-align: right;\n",
       "    }\n",
       "</style>\n",
       "<table border=\"1\" class=\"dataframe\">\n",
       "  <thead>\n",
       "    <tr style=\"text-align: right;\">\n",
       "      <th></th>\n",
       "      <th>total_products</th>\n",
       "      <th>total_reorders</th>\n",
       "      <th>reorder_proportion</th>\n",
       "    </tr>\n",
       "  </thead>\n",
       "  <tbody>\n",
       "    <tr>\n",
       "      <th>count</th>\n",
       "      <td>162633.000000</td>\n",
       "      <td>162633.000000</td>\n",
       "      <td>162633.000000</td>\n",
       "    </tr>\n",
       "    <tr>\n",
       "      <th>mean</th>\n",
       "      <td>190.561215</td>\n",
       "      <td>115.519409</td>\n",
       "      <td>0.487637</td>\n",
       "    </tr>\n",
       "    <tr>\n",
       "      <th>std</th>\n",
       "      <td>217.941363</td>\n",
       "      <td>171.284015</td>\n",
       "      <td>0.192391</td>\n",
       "    </tr>\n",
       "    <tr>\n",
       "      <th>min</th>\n",
       "      <td>5.000000</td>\n",
       "      <td>0.000000</td>\n",
       "      <td>0.000000</td>\n",
       "    </tr>\n",
       "    <tr>\n",
       "      <th>25%</th>\n",
       "      <td>59.000000</td>\n",
       "      <td>21.000000</td>\n",
       "      <td>0.345794</td>\n",
       "    </tr>\n",
       "    <tr>\n",
       "      <th>50%</th>\n",
       "      <td>114.000000</td>\n",
       "      <td>51.000000</td>\n",
       "      <td>0.491525</td>\n",
       "    </tr>\n",
       "    <tr>\n",
       "      <th>75%</th>\n",
       "      <td>233.000000</td>\n",
       "      <td>133.000000</td>\n",
       "      <td>0.634021</td>\n",
       "    </tr>\n",
       "    <tr>\n",
       "      <th>max</th>\n",
       "      <td>3725.000000</td>\n",
       "      <td>3275.000000</td>\n",
       "      <td>0.989529</td>\n",
       "    </tr>\n",
       "  </tbody>\n",
       "</table>\n",
       "</div>"
      ],
      "text/plain": [
       "       total_products  total_reorders  reorder_proportion\n",
       "count   162633.000000   162633.000000       162633.000000\n",
       "mean       190.561215      115.519409            0.487637\n",
       "std        217.941363      171.284015            0.192391\n",
       "min          5.000000        0.000000            0.000000\n",
       "25%         59.000000       21.000000            0.345794\n",
       "50%        114.000000       51.000000            0.491525\n",
       "75%        233.000000      133.000000            0.634021\n",
       "max       3725.000000     3275.000000            0.989529"
      ]
     },
     "execution_count": 109,
     "metadata": {},
     "output_type": "execute_result"
    }
   ],
   "source": [
    "user_activity.describe()"
   ]
  },
  {
   "cell_type": "markdown",
   "id": "91bd01e3-b50e-454b-b173-79960d3eae23",
   "metadata": {},
   "source": [
    "#### Step 3. Visualize the distribution with a box plot. "
   ]
  },
  {
   "cell_type": "code",
   "execution_count": 118,
   "id": "dfb93b1e-4aa2-4675-a48e-c928e3444dc0",
   "metadata": {},
   "outputs": [
    {
     "data": {
      "image/png": "[encoded data removed]",
      "text/plain": [
       "<Figure size 1000x600 with 1 Axes>"
      ]
     },
     "metadata": {},
     "output_type": "display_data"
    }
   ],
   "source": [
    "# Create the box plot\n",
    "fig_reorder = plt.figure(figsize=(10, 6))\n",
    "ax_reorder = sns.boxplot(data=user_activity['reorder_proportion'])\n",
    "\n",
    "# Calculate quartiles and mean\n",
    "q1 = user_activity['reorder_proportion'].quantile(0.25)\n",
    "q2 = user_activity['reorder_proportion'].quantile(0.5)  # Median\n",
    "q3 = user_activity['reorder_proportion'].quantile(0.75)\n",
    "mean = user_activity['reorder_proportion'].mean()\n",
    "\n",
    "# Add text annotations for quartiles and mean\n",
    "plt.text(0, q1, f'Q1: {q1:.2f}', horizontalalignment='center', color='orange', fontsize=12)\n",
    "plt.text(0, q2, f'Median: {q2:.2f}', horizontalalignment='center', color='orange', fontsize=12)\n",
    "plt.text(0, q3, f'Q3: {q3:.2f}', horizontalalignment='center', color='orange', fontsize=12)\n",
    "\n",
    "# Offset mean annotation above the box plot\n",
    "plt.text(0, mean + 0.05, f'Mean: {mean:.2f}', horizontalalignment='center', color='red', fontsize=12, verticalalignment='bottom')\n",
    "\n",
    "# Title and labels\n",
    "plt.title('Reorder Proportion Distribution')\n",
    "plt.ylabel('Reorder Proportion')\n",
    "\n",
    "# Show the plot\n",
    "plt.show()\n"
   ]
  },
  {
   "cell_type": "code",
   "execution_count": 120,
   "id": "46e6f08f-d379-4dac-a846-cf9f6e777b55",
   "metadata": {},
   "outputs": [
    {
     "name": "stdout",
     "output_type": "stream",
     "text": [
      "Reorder box-plot saved to /Users/amyzhang/Desktop/Instacart Basket Analysis/04 Analysis/Visualizations/Reorder_BoxPlot.png\n"
     ]
    }
   ],
   "source": [
    "# Export visualization. \n",
    "\n",
    "# Save to a unique file name\n",
    "output_dir = '/Users/amyzhang/Desktop/Instacart Basket Analysis/04 Analysis/Visualizations'\n",
    "file_name_reorder = 'Reorder_BoxPlot.png'  \n",
    "output_path_reorder = os.path.join(output_dir, file_name_reorder)\n",
    "\n",
    "# Save the plot to the correct path\n",
    "fig_reorder.savefig(output_path_reorder, format='png')\n",
    "\n",
    "# Print a message confirming the save\n",
    "print(f\"Reorder box-plot saved to {output_path_reorder}\")\n"
   ]
  },
  {
   "cell_type": "markdown",
   "id": "5f29f161-d8df-4df1-b23f-7fcae3a0ad29",
   "metadata": {},
   "source": [
    "#### Step 4. Define Adventurous Shoppers vs. Creatures of Habit vs. Orpen to Suggestion customers"
   ]
  },
  {
   "cell_type": "code",
   "execution_count": 153,
   "id": "d3c35da3-c248-453c-857f-1cd140781b15",
   "metadata": {},
   "outputs": [],
   "source": [
    "# Get the quartiles\n",
    "reorder_quantiles = user_activity['reorder_proportion'].quantile([0.25, 0.5, 0.75])\n",
    "\n",
    "# Define adventurous shoppers, open to suggestion, and creatures of habit\n",
    "adventurous_shoppers = user_activity[user_activity['reorder_proportion'] <= reorder_quantiles[0.25]]\n",
    "open_to_suggestion = user_activity[(user_activity['reorder_proportion'] > reorder_quantiles[0.25]) & (user_activity['reorder_proportion'] <= reorder_quantiles[0.75])]\n",
    "\n",
    "creatures_of_habit = user_activity[user_activity['reorder_proportion'] >= reorder_quantiles[0.75]]"
   ]
  },
  {
   "cell_type": "code",
   "execution_count": 126,
   "id": "751d6907-9705-4b06-ad91-b5eb95de3f9e",
   "metadata": {},
   "outputs": [
    {
     "name": "stdout",
     "output_type": "stream",
     "text": [
      "Number of Adventurous Shoppers: 40670\n",
      "Number of Open to Suggestion Shoppers: 81306\n",
      "Number of Creatures of Habit: 40664\n"
     ]
    }
   ],
   "source": [
    "# Count the number of users in each category\n",
    "num_adventurous_shoppers = len(adventurous_shoppers)\n",
    "num_open_to_suggestion = len(open_to_suggestion)\n",
    "num_creatures_of_habit = len(creatures_of_habit)\n",
    "\n",
    "# Print the results\n",
    "print(f\"Number of Adventurous Shoppers: {num_adventurous_shoppers}\")\n",
    "print(f\"Number of Open to Suggestion Shoppers: {num_open_to_suggestion}\")\n",
    "print(f\"Number of Creatures of Habit: {num_creatures_of_habit}\")"
   ]
  },
  {
   "cell_type": "code",
   "execution_count": 172,
   "id": "fb0dfa0d-3b9e-4bc7-acf9-c36a8f3e4e40",
   "metadata": {},
   "outputs": [],
   "source": [
    "# 162,640 vs. 162,633 unique customers in opc_filtered."
   ]
  },
  {
   "cell_type": "markdown",
   "id": "25bc8ffe-e24c-440c-be83-e329ceaa5f36",
   "metadata": {},
   "source": [
    "#### DEBUG: look for the extra 7"
   ]
  },
  {
   "cell_type": "code",
   "execution_count": 132,
   "id": "49231bcb-6a2e-467d-b2f9-a30b870eff97",
   "metadata": {},
   "outputs": [
    {
     "name": "stdout",
     "output_type": "stream",
     "text": [
      "Overlapping users between adventurous_shoppers and open_to_suggestion: 0\n"
     ]
    }
   ],
   "source": [
    "# Check for overlaps\n",
    "overlap = adventurous_shoppers.merge(open_to_suggestion, on='user_id')\n",
    "print(f\"Overlapping users between adventurous_shoppers and open_to_suggestion: {len(overlap)}\")\n"
   ]
  },
  {
   "cell_type": "code",
   "execution_count": 138,
   "id": "4066050c-82c0-42f5-9c46-00dae28e86ac",
   "metadata": {},
   "outputs": [
    {
     "name": "stdout",
     "output_type": "stream",
     "text": [
      "Overlapping users between open_to_suggestion and creatures_of_habit: 7\n"
     ]
    }
   ],
   "source": [
    "# Check for overlaps\n",
    "overlap = open_to_suggestion.merge(creatures_of_habit, on='user_id')\n",
    "print(f\"Overlapping users between open_to_suggestion and creatures_of_habit: {len(overlap)}\")"
   ]
  },
  {
   "cell_type": "code",
   "execution_count": 159,
   "id": "1377c2fa-ee55-49d7-afb9-64f39df2ab2e",
   "metadata": {},
   "outputs": [
    {
     "name": "stdout",
     "output_type": "stream",
     "text": [
      "Overlapping users between open_to_suggestion and creatures_of_habit: 0\n"
     ]
    }
   ],
   "source": [
    "# Define open_to_suggestion correctly\n",
    "# Ensure there is no overlap by using strict inequalities to separate the categories!\n",
    "open_to_suggestion = user_activity[\n",
    "    (user_activity['reorder_proportion'] > reorder_quantiles[0.25]) & \n",
    "    (user_activity['reorder_proportion'] < reorder_quantiles[0.75])\n",
    "]\n",
    "\n",
    "# Define adventurous shoppers and creatures of habit without overlap\n",
    "adventurous_shoppers = user_activity[user_activity['reorder_proportion'] <= reorder_quantiles[0.25]]\n",
    "creatures_of_habit = user_activity[user_activity['reorder_proportion'] >= reorder_quantiles[0.75]]\n",
    "\n",
    "# Now recheck the overlaps\n",
    "overlap = open_to_suggestion.merge(creatures_of_habit, on='user_id')\n",
    "print(f\"Overlapping users between open_to_suggestion and creatures_of_habit: {len(overlap)}\")"
   ]
  },
  {
   "cell_type": "code",
   "execution_count": 161,
   "id": "9f574f7a-e7f1-4982-8779-53f81518b773",
   "metadata": {},
   "outputs": [
    {
     "name": "stdout",
     "output_type": "stream",
     "text": [
      "Number of Adventurous Shoppers: 40670\n",
      "Number of Open to Suggestion Shoppers: 81299\n",
      "Number of Creatures of Habit: 40664\n"
     ]
    }
   ],
   "source": [
    "# Count the number of users in each category\n",
    "num_adventurous_shoppers = len(adventurous_shoppers)\n",
    "num_open_to_suggestion = len(open_to_suggestion)\n",
    "num_creatures_of_habit = len(creatures_of_habit)\n",
    "\n",
    "# Print the results\n",
    "print(f\"Number of Adventurous Shoppers: {num_adventurous_shoppers}\")\n",
    "print(f\"Number of Open to Suggestion Shoppers: {num_open_to_suggestion}\")\n",
    "print(f\"Number of Creatures of Habit: {num_creatures_of_habit}\")"
   ]
  },
  {
   "cell_type": "markdown",
   "id": "671b36db-3690-4b22-b0fc-dd8d8d4faa79",
   "metadata": {},
   "source": [
    "#### Regional Distribution"
   ]
  },
  {
   "cell_type": "code",
   "execution_count": 193,
   "id": "44788e83-8de9-48f7-ac0f-df6a43dfa3e9",
   "metadata": {},
   "outputs": [],
   "source": [
    "# user_id not included in previous user_activity df; have to reset the index"
   ]
  },
  {
   "cell_type": "code",
   "execution_count": 190,
   "id": "97bc796a-5bb0-4d51-a8b8-cb552f63eaac",
   "metadata": {},
   "outputs": [],
   "source": [
    "# Group by user_id and calculate total products and total reorders\n",
    "user_activity = opc_filtered.groupby('user_id').agg(\n",
    "    total_products=('product_id', 'count'),  # Count total number of products ordered by user\n",
    "    total_reorders=('reorder_status', 'sum')  # Sum the reorders (1 indicates reorder)\n",
    ").reset_index()  # Reset the index to make 'user_id' a column again"
   ]
  },
  {
   "cell_type": "code",
   "execution_count": 201,
   "id": "80ab8bec-5d78-4f29-9e51-bbb0986198c0",
   "metadata": {},
   "outputs": [],
   "source": [
    "def reorder_habit(reorder_proportion, q1, q3):\n",
    "    if reorder_proportion <= q1:\n",
    "        return 'Adventurous Shopper'\n",
    "    elif reorder_proportion >= q3:\n",
    "        return 'Creature of Habit'\n",
    "    else:\n",
    "        return 'Open to Suggestion'"
   ]
  },
  {
   "cell_type": "code",
   "execution_count": 203,
   "id": "7ee96379-8ef1-4676-bc4f-af5b7bc9cc1d",
   "metadata": {},
   "outputs": [
    {
     "name": "stdout",
     "output_type": "stream",
     "text": [
      "  user_id  total_products  total_reorders  reorder_proportion  \\\n",
      "0       1              59              41            0.694915   \n",
      "1      10             143              49            0.342657   \n",
      "2     100              27               7            0.259259   \n",
      "3    1000             103              71            0.689320   \n",
      "4   10000            1092             836            0.765568   \n",
      "\n",
      "              category  \n",
      "0    Creature of Habit  \n",
      "1  Adventurous Shopper  \n",
      "2  Adventurous Shopper  \n",
      "3    Creature of Habit  \n",
      "4    Creature of Habit  \n"
     ]
    }
   ],
   "source": [
    "# Step 4: Apply the categorization to the dataframe\n",
    "user_activity['category'] = user_activity['reorder_proportion'].apply(reorder_habit, args=(reorder_quantiles[0.25], reorder_quantiles[0.75]))\n",
    "\n",
    "# Step 5: Check the results\n",
    "print(user_activity[['user_id', 'total_products', 'total_reorders', 'reorder_proportion', 'category']].head())\n"
   ]
  },
  {
   "cell_type": "code",
   "execution_count": 205,
   "id": "94040f04-39c7-4b33-9f58-7649932fce10",
   "metadata": {},
   "outputs": [
    {
     "data": {
      "text/plain": [
       "Index(['user_id', 'total_products', 'total_reorders', 'reorder_proportion',\n",
       "       'category'],\n",
       "      dtype='object')"
      ]
     },
     "execution_count": 205,
     "metadata": {},
     "output_type": "execute_result"
    }
   ],
   "source": [
    "user_activity.columns"
   ]
  },
  {
   "cell_type": "code",
   "execution_count": 217,
   "id": "6e37536e-3a45-4911-9608-36fbcc28f27b",
   "metadata": {},
   "outputs": [
    {
     "name": "stdout",
     "output_type": "stream",
     "text": [
      "  user_id  total_products  total_reorders  reorder_proportion  \\\n",
      "0       1              59              41            0.694915   \n",
      "1      10             143              49            0.342657   \n",
      "2     100              27               7            0.259259   \n",
      "3    1000             103              71            0.689320   \n",
      "4   10000            1092             836            0.765568   \n",
      "\n",
      "              category region  \n",
      "0    Creature of Habit  South  \n",
      "1  Adventurous Shopper  South  \n",
      "2  Adventurous Shopper  South  \n",
      "3    Creature of Habit  South  \n",
      "4    Creature of Habit  South  \n"
     ]
    }
   ],
   "source": [
    "# Aggregate opc_filtered to keep only one row per user_id\n",
    "opc_filtered_aggregated = opc_filtered[['user_id', 'region']].drop_duplicates(subset='user_id')\n",
    "\n",
    "# Now perform the inner join to add the 'Region' column\n",
    "user_activity_with_region = user_activity.merge(\n",
    "    opc_filtered_aggregated,  # Using the aggregated version of opc_filtered\n",
    "    on='user_id',             # Join on 'user_id'\n",
    "    how='inner'               # Inner Join\n",
    ")\n",
    "\n",
    "# Check the result\n",
    "print(user_activity_with_region[['user_id', 'total_products', 'total_reorders', 'reorder_proportion', 'category', 'region']].head())\n"
   ]
  },
  {
   "cell_type": "code",
   "execution_count": 219,
   "id": "5c605cd2-d5a0-41de-aa42-1c12f3c576f9",
   "metadata": {},
   "outputs": [
    {
     "data": {
      "text/plain": [
       "(162633, 6)"
      ]
     },
     "execution_count": 219,
     "metadata": {},
     "output_type": "execute_result"
    }
   ],
   "source": [
    "user_activity_with_region.shape"
   ]
  },
  {
   "cell_type": "code",
   "execution_count": 227,
   "id": "e319efd1-6cca-4c36-83b2-9bd478cd199e",
   "metadata": {},
   "outputs": [
    {
     "data": {
      "image/png": "[encoded data removed]",
      "text/plain": [
       "<Figure size 1200x600 with 1 Axes>"
      ]
     },
     "metadata": {},
     "output_type": "display_data"
    }
   ],
   "source": [
    "# Count the occurrences of each category within each region\n",
    "category_by_region = user_activity_with_region.groupby(['region', 'category']).size().reset_index(name='user_count')\n",
    "\n",
    "# Create a figure and plot\n",
    "reorder_habit = plt.figure(figsize=(12, 6))  # Adjust the size if needed\n",
    "sns.barplot(x='region', y='user_count', hue='category', data=category_by_region)\n",
    "\n",
    "# Add labels and title\n",
    "plt.xlabel('Region')\n",
    "plt.ylabel('Number of Users')\n",
    "plt.title('Distribution of Reorder Habits by Region')\n",
    "\n",
    "# Rotate x-axis labels for readability\n",
    "plt.xticks(rotation=45)\n",
    "\n",
    "# Show the plot\n",
    "plt.tight_layout()\n",
    "plt.show()\n"
   ]
  },
  {
   "cell_type": "code",
   "execution_count": 229,
   "id": "e23ccd21-97e3-4441-834f-591ad16b82b3",
   "metadata": {},
   "outputs": [
    {
     "name": "stdout",
     "output_type": "stream",
     "text": [
      "Reorder habits distribution plot saved to /Users/amyzhang/Desktop/Instacart Basket Analysis/04 Analysis/Visualizations/Reorder_Habits_by_Region.png\n"
     ]
    }
   ],
   "source": [
    "# Export visualization\n",
    "# Save to a unique file name\n",
    "output_dir_1 = '/Users/amyzhang/Desktop/Instacart Basket Analysis/04 Analysis/Visualizations'\n",
    "file_name_reorder_1 = 'Reorder_Habits_by_Region.png'  \n",
    "output_path_reorder_1 = os.path.join(output_dir_1, file_name_reorder_1)\n",
    "\n",
    "# Save the plot to the correct path\n",
    "reorder_habit.savefig(output_path_reorder_1, format='png')\n",
    "\n",
    "# Print a message confirming the save\n",
    "print(f\"Reorder habits distribution plot saved to {output_path_reorder_1}\")"
   ]
  },
  {
   "cell_type": "code",
   "execution_count": null,
   "id": "2581b76f-94d8-496a-a4ec-e2ecc11d4cd5",
   "metadata": {},
   "outputs": [],
   "source": []
  }
 ],
 "metadata": {
  "kernelspec": {
   "display_name": "Python 3 (ipykernel)",
   "language": "python",
   "name": "python3"
  },
  "language_info": {
   "codemirror_mode": {
    "name": "ipython",
    "version": 3
   },
   "file_extension": ".py",
   "mimetype": "text/x-python",
   "name": "python",
   "nbconvert_exporter": "python",
   "pygments_lexer": "ipython3",
   "version": "3.12.7"
  }
 },
 "nbformat": 4,
 "nbformat_minor": 5
}
